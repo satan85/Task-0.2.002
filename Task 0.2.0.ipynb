{
 "cells": [
  {
   "cell_type": "code",
   "execution_count": 52,
   "metadata": {},
   "outputs": [],
   "source": [
    "import random # Random package to get random numbers"
   ]
  },
  {
   "cell_type": "code",
   "execution_count": 62,
   "metadata": {},
   "outputs": [
    {
     "name": "stdout",
     "output_type": "stream",
     "text": [
      "Enter your list size, e.g. 10: 10\n"
     ]
    }
   ],
   "source": [
    "n = int(input(\"Enter your list size, e.g. 10: \"))\n",
    "\n",
    "my_list = [] # Empty list\n",
    "for i in range(n):  # n sized list\n",
    "    my_list.append(random.randint(1,100)) # randint generates random numbers b/w 1, 100."
   ]
  },
  {
   "cell_type": "code",
   "execution_count": 63,
   "metadata": {},
   "outputs": [
    {
     "data": {
      "text/plain": [
       "[8, 16, 36, 7, 64, 13, 20, 88, 68, 24]"
      ]
     },
     "execution_count": 63,
     "metadata": {},
     "output_type": "execute_result"
    }
   ],
   "source": [
    "my_list # Our gen list"
   ]
  },
  {
   "cell_type": "code",
   "execution_count": 64,
   "metadata": {},
   "outputs": [
    {
     "data": {
      "text/plain": [
       "10"
      ]
     },
     "execution_count": 64,
     "metadata": {},
     "output_type": "execute_result"
    }
   ],
   "source": [
    "len(my_list) # length of List I used to do this to verify code correctness"
   ]
  },
  {
   "cell_type": "code",
   "execution_count": 65,
   "metadata": {},
   "outputs": [],
   "source": [
    "# Function to take input parameter and removes first n and last n numbers from the list.\n",
    "\n",
    "def get_input(a=1): # default set to 1, to avoid error\n",
    "    \n",
    "    num = a #  set a to num var\n",
    "    \n",
    "    global my_list  # UnboundLocalError occured to avoid it I declared it global inside my function\n",
    "    \n",
    "    print(\"First,\",num,\"numbers are: \" ,[my_list[i] for i in range(num)]) \n",
    "    print(\"Last,\",num,\"numbers are: \" ,[my_list[-(i+1)] for i in range(num)])\n",
    "    \n",
    "    my_list = my_list[num:-num]  # Without using any pop, remove method, simply slicing the list\n",
    "     \n",
    "    print(\"my_list: \", my_list)"
   ]
  },
  {
   "cell_type": "code",
   "execution_count": 66,
   "metadata": {},
   "outputs": [
    {
     "name": "stdout",
     "output_type": "stream",
     "text": [
      "First, 2 numbers are:  [8, 16]\n",
      "Last, 2 numbers are:  [24, 68]\n",
      "my_list:  [36, 7, 64, 13, 20, 88]\n"
     ]
    }
   ],
   "source": [
    "get_input(2)  # 2 passed as parameter"
   ]
  },
  {
   "cell_type": "code",
   "execution_count": 67,
   "metadata": {},
   "outputs": [
    {
     "data": {
      "text/plain": [
       "[36, 7, 64, 13, 20, 88]"
      ]
     },
     "execution_count": 67,
     "metadata": {},
     "output_type": "execute_result"
    }
   ],
   "source": [
    "my_list "
   ]
  },
  {
   "cell_type": "code",
   "execution_count": 68,
   "metadata": {},
   "outputs": [
    {
     "data": {
      "text/plain": [
       "6"
      ]
     },
     "execution_count": 68,
     "metadata": {},
     "output_type": "execute_result"
    }
   ],
   "source": [
    "n = len(my_list) # n to be used in for loop for sorting\n",
    "n"
   ]
  },
  {
   "cell_type": "code",
   "execution_count": 69,
   "metadata": {},
   "outputs": [
    {
     "name": "stdout",
     "output_type": "stream",
     "text": [
      "Unsorted list: [36, 7, 64, 13, 20, 88]\n",
      "Sorted list: [7, 13, 20, 36, 64, 88]\n"
     ]
    }
   ],
   "source": [
    "print(\"Unsorted list:\", my_list) \n",
    "\n",
    "run = True  # setting a var to True to continue loop till reaching end\n",
    "\n",
    "while run: \n",
    "    \n",
    "    run = False  # run value set to False as we will begin sort process, and will help in terminating the loop.\n",
    "                 # In case no sorting is required.\n",
    "    \n",
    "    for i in range(n-1):  # len(my_list)-1 / n-1 becasue last index will move automatically as\n",
    "                          # we swapping two values at a time.\n",
    "            \n",
    "        if my_list[i] > my_list[i+1]:  # Comparing 0 index with 1 index and so on.\n",
    "            \n",
    "            my_list[i], my_list[i+1] = my_list[i+1], my_list[i]  # Replacing the postions of the items in list\n",
    "            \n",
    "            run = True  # To check again if any sorting required at end of list\n",
    "            \n",
    "                        # if no sorting happen than if statement will not execute and will come out of loop\n",
    "                        # setting run value to False\n",
    "\n",
    "print(\"Sorted list:\", my_list)"
   ]
  },
  {
   "cell_type": "code",
   "execution_count": null,
   "metadata": {},
   "outputs": [],
   "source": [
    "# Succesfull"
   ]
  }
 ],
 "metadata": {
  "kernelspec": {
   "display_name": "Python 3",
   "language": "python",
   "name": "python3"
  },
  "language_info": {
   "codemirror_mode": {
    "name": "ipython",
    "version": 3
   },
   "file_extension": ".py",
   "mimetype": "text/x-python",
   "name": "python",
   "nbconvert_exporter": "python",
   "pygments_lexer": "ipython3",
   "version": "3.8.2"
  }
 },
 "nbformat": 4,
 "nbformat_minor": 4
}
